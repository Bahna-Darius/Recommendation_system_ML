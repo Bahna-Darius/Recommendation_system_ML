{
 "cells": [
  {
   "metadata": {},
   "cell_type": "markdown",
   "source": "## Importing the libraries",
   "id": "32c237ea19932c43"
  },
  {
   "cell_type": "code",
   "id": "initial_id",
   "metadata": {
    "collapsed": true,
    "ExecuteTime": {
     "end_time": "2024-08-22T12:11:31.866679Z",
     "start_time": "2024-08-22T12:11:30.857656Z"
    }
   },
   "source": [
    "import numpy as np\n",
    "import pandas as pd"
   ],
   "outputs": [],
   "execution_count": 2
  },
  {
   "metadata": {},
   "cell_type": "markdown",
   "source": "## Data Preprocessing",
   "id": "1230892cb8ca955b"
  },
  {
   "metadata": {
    "ExecuteTime": {
     "end_time": "2024-08-22T12:11:33.947260Z",
     "start_time": "2024-08-22T12:11:33.921617Z"
    }
   },
   "cell_type": "code",
   "source": [
    "users = pd.read_csv('Fake_Data/user_data.csv')\n",
    "products = pd.read_csv('Fake_Data/product_data.csv')\n",
    "behavior = pd.read_csv('Fake_Data/user_behavior_data.csv')\n",
    "ratings = pd.read_csv('Fake_Data/user_ratings.csv')"
   ],
   "id": "fc4f8f85a940f48f",
   "outputs": [],
   "execution_count": 3
  },
  {
   "metadata": {
    "ExecuteTime": {
     "end_time": "2024-08-22T12:25:37.633260Z",
     "start_time": "2024-08-22T12:25:37.623882Z"
    }
   },
   "cell_type": "code",
   "source": [
    "# Find the missing values:\n",
    "users.isnull().sum()\n",
    "products.isnull().sum()\n",
    "ratings.isnull().sum()\n",
    "behavior.isnull().sum()     # Missing values in the 'purchase_timestamp' column"
   ],
   "id": "b3fefc75ac102869",
   "outputs": [
    {
     "data": {
      "text/plain": [
       "user_id                  0\n",
       "product_id               0\n",
       "view_timestamp           0\n",
       "purchase_timestamp    3502\n",
       "dtype: int64"
      ]
     },
     "execution_count": 13,
     "metadata": {},
     "output_type": "execute_result"
    }
   ],
   "execution_count": 13
  },
  {
   "metadata": {
    "ExecuteTime": {
     "end_time": "2024-08-22T12:24:00.098450Z",
     "start_time": "2024-08-22T12:24:00.083588Z"
    }
   },
   "cell_type": "code",
   "source": [
    "print(\"\\nUsers Data Description:\")\n",
    "print(users.describe(include='all'))"
   ],
   "id": "7af05e8a8f6ef5f5",
   "outputs": [
    {
     "name": "stdout",
     "output_type": "stream",
     "text": [
      "\n",
      "Users Data Description:\n",
      "            user_id         age gender   location   join_date\n",
      "count   1000.000000  1000.00000   1000       1000        1000\n",
      "unique          NaN         NaN      2        962         665\n",
      "top             NaN         NaN      M  East John  2022-06-27\n",
      "freq            NaN         NaN    524          3           6\n",
      "mean    1500.500000    43.81900    NaN        NaN         NaN\n",
      "std      288.819436    14.99103    NaN        NaN         NaN\n",
      "min     1001.000000    18.00000    NaN        NaN         NaN\n",
      "25%     1250.750000    31.00000    NaN        NaN         NaN\n",
      "50%     1500.500000    44.00000    NaN        NaN         NaN\n",
      "75%     1750.250000    56.00000    NaN        NaN         NaN\n",
      "max     2000.000000    69.00000    NaN        NaN         NaN\n"
     ]
    }
   ],
   "execution_count": 12
  },
  {
   "metadata": {},
   "cell_type": "code",
   "outputs": [],
   "execution_count": null,
   "source": "",
   "id": "319b980b48eedf30"
  }
 ],
 "metadata": {
  "kernelspec": {
   "display_name": "Python 3",
   "language": "python",
   "name": "python3"
  },
  "language_info": {
   "codemirror_mode": {
    "name": "ipython",
    "version": 2
   },
   "file_extension": ".py",
   "mimetype": "text/x-python",
   "name": "python",
   "nbconvert_exporter": "python",
   "pygments_lexer": "ipython2",
   "version": "2.7.6"
  }
 },
 "nbformat": 4,
 "nbformat_minor": 5
}
