{
 "cells": [
  {
   "metadata": {},
   "cell_type": "markdown",
   "source": "## Importing the libraries",
   "id": "32c237ea19932c43"
  },
  {
   "cell_type": "code",
   "id": "initial_id",
   "metadata": {
    "collapsed": true,
    "ExecuteTime": {
     "end_time": "2024-08-23T08:37:08.283382Z",
     "start_time": "2024-08-23T08:37:06.724185Z"
    }
   },
   "source": [
    "from datetime import datetime\n",
    "import numpy as np\n",
    "import pandas as pd"
   ],
   "outputs": [],
   "execution_count": 1
  },
  {
   "metadata": {},
   "cell_type": "markdown",
   "source": "## Data Preprocessing",
   "id": "1230892cb8ca955b"
  },
  {
   "metadata": {
    "ExecuteTime": {
     "end_time": "2024-08-22T14:03:32.830022Z",
     "start_time": "2024-08-22T14:03:32.811207Z"
    }
   },
   "cell_type": "code",
   "source": [
    "users = pd.read_csv('Fake_Data/user_data.csv')\n",
    "products = pd.read_csv('Fake_Data/product_data.csv')\n",
    "behavior = pd.read_csv('Fake_Data/user_behavior_data.csv')\n",
    "ratings = pd.read_csv('Fake_Data/user_ratings.csv')"
   ],
   "id": "fc4f8f85a940f48f",
   "outputs": [],
   "execution_count": 17
  },
  {
   "metadata": {
    "ExecuteTime": {
     "end_time": "2024-08-22T14:03:34.892819Z",
     "start_time": "2024-08-22T14:03:34.881945Z"
    }
   },
   "cell_type": "code",
   "source": [
    "# Find the missing values:\n",
    "users.isnull().sum()\n",
    "products.isnull().sum()\n",
    "ratings.isnull().sum()\n",
    "behavior.isnull().sum()     # Missing values in the 'purchase_timestamp' column"
   ],
   "id": "b3fefc75ac102869",
   "outputs": [
    {
     "data": {
      "text/plain": [
       "user_id                  0\n",
       "product_id               0\n",
       "view_timestamp           0\n",
       "purchase_timestamp    3502\n",
       "dtype: int64"
      ]
     },
     "execution_count": 18,
     "metadata": {},
     "output_type": "execute_result"
    }
   ],
   "execution_count": 18
  },
  {
   "metadata": {
    "ExecuteTime": {
     "end_time": "2024-08-22T14:03:37.413303Z",
     "start_time": "2024-08-22T14:03:37.400989Z"
    }
   },
   "cell_type": "code",
   "source": [
    "# Adding a new column for indicating purchases \n",
    "behavior[\"purchase_made\"] = behavior[\"purchase_timestamp\"].notnull().astype(int)\n",
    "behavior['purchase_timestamp'].fillna(value='No Purchase', inplace=True)\n",
    "behavior[\"pur\"]"
   ],
   "id": "7af05e8a8f6ef5f5",
   "outputs": [
    {
     "name": "stderr",
     "output_type": "stream",
     "text": [
      "C:\\Users\\Darius\\AppData\\Local\\Temp\\ipykernel_4872\\1355087997.py:3: FutureWarning: A value is trying to be set on a copy of a DataFrame or Series through chained assignment using an inplace method.\n",
      "The behavior will change in pandas 3.0. This inplace method will never work because the intermediate object on which we are setting values always behaves as a copy.\n",
      "\n",
      "For example, when doing 'df[col].method(value, inplace=True)', try using 'df.method({col: value}, inplace=True)' or df[col] = df[col].method(value) instead, to perform the operation inplace on the original object.\n",
      "\n",
      "\n",
      "  behavior['purchase_timestamp'].fillna(value='No Purchase', inplace=True)\n"
     ]
    },
    {
     "data": {
      "text/plain": [
       "      user_id  product_id       view_timestamp   purchase_timestamp  \\\n",
       "0        1493        2130  2023-12-15 22:54:36          No Purchase   \n",
       "1        1634        2871  2023-11-05 02:02:47          No Purchase   \n",
       "2        1375        2582  2023-12-18 13:43:28          No Purchase   \n",
       "3        1099        2594  2023-12-05 22:24:09  2023-12-06 12:40:09   \n",
       "4        1192        2325  2023-09-23 05:58:36  2023-09-23 21:58:36   \n",
       "...       ...         ...                  ...                  ...   \n",
       "4995     1591        2216  2024-03-28 00:36:08  2024-03-28 11:36:08   \n",
       "4996     1356        2843  2024-04-30 02:22:18          No Purchase   \n",
       "4997     1579        2275  2024-03-03 05:16:54          No Purchase   \n",
       "4998     1451        2420  2024-07-09 13:41:01          No Purchase   \n",
       "4999     1164        2779  2024-05-11 08:34:34  2024-05-12 04:45:34   \n",
       "\n",
       "      purchase_made  \n",
       "0                 0  \n",
       "1                 0  \n",
       "2                 0  \n",
       "3                 1  \n",
       "4                 1  \n",
       "...             ...  \n",
       "4995              1  \n",
       "4996              0  \n",
       "4997              0  \n",
       "4998              0  \n",
       "4999              1  \n",
       "\n",
       "[5000 rows x 5 columns]"
      ],
      "text/html": [
       "<div>\n",
       "<style scoped>\n",
       "    .dataframe tbody tr th:only-of-type {\n",
       "        vertical-align: middle;\n",
       "    }\n",
       "\n",
       "    .dataframe tbody tr th {\n",
       "        vertical-align: top;\n",
       "    }\n",
       "\n",
       "    .dataframe thead th {\n",
       "        text-align: right;\n",
       "    }\n",
       "</style>\n",
       "<table border=\"1\" class=\"dataframe\">\n",
       "  <thead>\n",
       "    <tr style=\"text-align: right;\">\n",
       "      <th></th>\n",
       "      <th>user_id</th>\n",
       "      <th>product_id</th>\n",
       "      <th>view_timestamp</th>\n",
       "      <th>purchase_timestamp</th>\n",
       "      <th>purchase_made</th>\n",
       "    </tr>\n",
       "  </thead>\n",
       "  <tbody>\n",
       "    <tr>\n",
       "      <th>0</th>\n",
       "      <td>1493</td>\n",
       "      <td>2130</td>\n",
       "      <td>2023-12-15 22:54:36</td>\n",
       "      <td>No Purchase</td>\n",
       "      <td>0</td>\n",
       "    </tr>\n",
       "    <tr>\n",
       "      <th>1</th>\n",
       "      <td>1634</td>\n",
       "      <td>2871</td>\n",
       "      <td>2023-11-05 02:02:47</td>\n",
       "      <td>No Purchase</td>\n",
       "      <td>0</td>\n",
       "    </tr>\n",
       "    <tr>\n",
       "      <th>2</th>\n",
       "      <td>1375</td>\n",
       "      <td>2582</td>\n",
       "      <td>2023-12-18 13:43:28</td>\n",
       "      <td>No Purchase</td>\n",
       "      <td>0</td>\n",
       "    </tr>\n",
       "    <tr>\n",
       "      <th>3</th>\n",
       "      <td>1099</td>\n",
       "      <td>2594</td>\n",
       "      <td>2023-12-05 22:24:09</td>\n",
       "      <td>2023-12-06 12:40:09</td>\n",
       "      <td>1</td>\n",
       "    </tr>\n",
       "    <tr>\n",
       "      <th>4</th>\n",
       "      <td>1192</td>\n",
       "      <td>2325</td>\n",
       "      <td>2023-09-23 05:58:36</td>\n",
       "      <td>2023-09-23 21:58:36</td>\n",
       "      <td>1</td>\n",
       "    </tr>\n",
       "    <tr>\n",
       "      <th>...</th>\n",
       "      <td>...</td>\n",
       "      <td>...</td>\n",
       "      <td>...</td>\n",
       "      <td>...</td>\n",
       "      <td>...</td>\n",
       "    </tr>\n",
       "    <tr>\n",
       "      <th>4995</th>\n",
       "      <td>1591</td>\n",
       "      <td>2216</td>\n",
       "      <td>2024-03-28 00:36:08</td>\n",
       "      <td>2024-03-28 11:36:08</td>\n",
       "      <td>1</td>\n",
       "    </tr>\n",
       "    <tr>\n",
       "      <th>4996</th>\n",
       "      <td>1356</td>\n",
       "      <td>2843</td>\n",
       "      <td>2024-04-30 02:22:18</td>\n",
       "      <td>No Purchase</td>\n",
       "      <td>0</td>\n",
       "    </tr>\n",
       "    <tr>\n",
       "      <th>4997</th>\n",
       "      <td>1579</td>\n",
       "      <td>2275</td>\n",
       "      <td>2024-03-03 05:16:54</td>\n",
       "      <td>No Purchase</td>\n",
       "      <td>0</td>\n",
       "    </tr>\n",
       "    <tr>\n",
       "      <th>4998</th>\n",
       "      <td>1451</td>\n",
       "      <td>2420</td>\n",
       "      <td>2024-07-09 13:41:01</td>\n",
       "      <td>No Purchase</td>\n",
       "      <td>0</td>\n",
       "    </tr>\n",
       "    <tr>\n",
       "      <th>4999</th>\n",
       "      <td>1164</td>\n",
       "      <td>2779</td>\n",
       "      <td>2024-05-11 08:34:34</td>\n",
       "      <td>2024-05-12 04:45:34</td>\n",
       "      <td>1</td>\n",
       "    </tr>\n",
       "  </tbody>\n",
       "</table>\n",
       "<p>5000 rows × 5 columns</p>\n",
       "</div>"
      ]
     },
     "execution_count": 19,
     "metadata": {},
     "output_type": "execute_result"
    }
   ],
   "execution_count": 19
  },
  {
   "metadata": {},
   "cell_type": "code",
   "outputs": [],
   "execution_count": null,
   "source": [
    "# \n",
    "behavior = behavior.merge(products[['product_id', 'price', 'category']], on='product_id', how='left')\n",
    "ratings = ratings.merge(products[['product_id', 'avg_rating']], on='product_id', how='left')\n"
   ],
   "id": "527ad779a1ac952e"
  },
  {
   "metadata": {},
   "cell_type": "markdown",
   "source": [
    "### Adding RFM (Recency, Frequency, Monetary) features for user behavior analysis.\n",
    "- Recency: Number of days since the user's last purchase to the present.\n",
    "- Frequency: Total number of purchases made by the user within a given period.\n",
    "- Monetary: Total amount spent by the user based on their purchases."
   ],
   "id": "8d967b1955772039"
  },
  {
   "metadata": {
    "ExecuteTime": {
     "end_time": "2024-08-22T14:20:19.078179Z",
     "start_time": "2024-08-22T14:20:18.362488Z"
    }
   },
   "cell_type": "code",
   "source": [
    "# Convert 'purchase_timestamp' to datetime objects and calculate recency\n",
    "behavior['purchase_date'] = pd.to_datetime(behavior['purchase_timestamp'], errors='coerce').dt.date\n",
    "behavior['recency'] = behavior.groupby('user_id')['purchase_date'].transform(\n",
    "    lambda x: (\n",
    "            datetime.now().date() - pd.to_datetime(x).max()\n",
    "    ).days\n",
    ")\n",
    "\n",
    "# Calculate the frequency of purchases for each user\n",
    "behavior['frequency'] = behavior.groupby('user_id')['purchase_timestamp'].transform('count')\n",
    "\n",
    "# Enrich with product prices and calculate the monetary value (total amount spent) for each user\n",
    "behavior = behavior.merge(products[['product_id', 'price']], on='product_id', how='left')\n",
    "behavior['monetary'] = behavior.groupby('user_id')['price'].transform('sum')\n"
   ],
   "id": "319b980b48eedf30",
   "outputs": [
    {
     "name": "stderr",
     "output_type": "stream",
     "text": [
      "C:\\Users\\Darius\\AppData\\Local\\Temp\\ipykernel_4872\\549087704.py:2: UserWarning: Could not infer format, so each element will be parsed individually, falling back to `dateutil`. To ensure parsing is consistent and as-expected, please specify a format.\n",
      "  behavior['purchase_date'] = pd.to_datetime(behavior['purchase_timestamp'], errors='coerce').dt.date\n"
     ]
    },
    {
     "ename": "TypeError",
     "evalue": "unsupported operand type(s) for -: 'datetime.date' and 'Timestamp'",
     "output_type": "error",
     "traceback": [
      "\u001B[1;31m---------------------------------------------------------------------------\u001B[0m",
      "\u001B[1;31mTypeError\u001B[0m                                 Traceback (most recent call last)",
      "Cell \u001B[1;32mIn[22], line 3\u001B[0m\n\u001B[0;32m      1\u001B[0m \u001B[38;5;66;03m# Convert 'purchase_timestamp' to datetime objects and calculate recency\u001B[39;00m\n\u001B[0;32m      2\u001B[0m behavior[\u001B[38;5;124m'\u001B[39m\u001B[38;5;124mpurchase_date\u001B[39m\u001B[38;5;124m'\u001B[39m] \u001B[38;5;241m=\u001B[39m pd\u001B[38;5;241m.\u001B[39mto_datetime(behavior[\u001B[38;5;124m'\u001B[39m\u001B[38;5;124mpurchase_timestamp\u001B[39m\u001B[38;5;124m'\u001B[39m], errors\u001B[38;5;241m=\u001B[39m\u001B[38;5;124m'\u001B[39m\u001B[38;5;124mcoerce\u001B[39m\u001B[38;5;124m'\u001B[39m)\u001B[38;5;241m.\u001B[39mdt\u001B[38;5;241m.\u001B[39mdate\n\u001B[1;32m----> 3\u001B[0m behavior[\u001B[38;5;124m'\u001B[39m\u001B[38;5;124mrecency\u001B[39m\u001B[38;5;124m'\u001B[39m] \u001B[38;5;241m=\u001B[39m \u001B[43mbehavior\u001B[49m\u001B[38;5;241;43m.\u001B[39;49m\u001B[43mgroupby\u001B[49m\u001B[43m(\u001B[49m\u001B[38;5;124;43m'\u001B[39;49m\u001B[38;5;124;43muser_id\u001B[39;49m\u001B[38;5;124;43m'\u001B[39;49m\u001B[43m)\u001B[49m\u001B[43m[\u001B[49m\u001B[38;5;124;43m'\u001B[39;49m\u001B[38;5;124;43mpurchase_date\u001B[39;49m\u001B[38;5;124;43m'\u001B[39;49m\u001B[43m]\u001B[49m\u001B[38;5;241;43m.\u001B[39;49m\u001B[43mtransform\u001B[49m\u001B[43m(\u001B[49m\u001B[38;5;28;43;01mlambda\u001B[39;49;00m\u001B[43m \u001B[49m\u001B[43mx\u001B[49m\u001B[43m:\u001B[49m\u001B[43m \u001B[49m\u001B[43m(\u001B[49m\u001B[43mdatetime\u001B[49m\u001B[38;5;241;43m.\u001B[39;49m\u001B[43mnow\u001B[49m\u001B[43m(\u001B[49m\u001B[43m)\u001B[49m\u001B[38;5;241;43m.\u001B[39;49m\u001B[43mdate\u001B[49m\u001B[43m(\u001B[49m\u001B[43m)\u001B[49m\u001B[43m \u001B[49m\u001B[38;5;241;43m-\u001B[39;49m\u001B[43m \u001B[49m\u001B[43mpd\u001B[49m\u001B[38;5;241;43m.\u001B[39;49m\u001B[43mto_datetime\u001B[49m\u001B[43m(\u001B[49m\u001B[43mx\u001B[49m\u001B[43m)\u001B[49m\u001B[38;5;241;43m.\u001B[39;49m\u001B[43mmax\u001B[49m\u001B[43m(\u001B[49m\u001B[43m)\u001B[49m\u001B[43m)\u001B[49m\u001B[38;5;241;43m.\u001B[39;49m\u001B[43mdays\u001B[49m\u001B[43m)\u001B[49m\n\u001B[0;32m      5\u001B[0m \u001B[38;5;66;03m# Calculate the frequency of purchases for each user\u001B[39;00m\n\u001B[0;32m      6\u001B[0m behavior[\u001B[38;5;124m'\u001B[39m\u001B[38;5;124mfrequency\u001B[39m\u001B[38;5;124m'\u001B[39m] \u001B[38;5;241m=\u001B[39m behavior\u001B[38;5;241m.\u001B[39mgroupby(\u001B[38;5;124m'\u001B[39m\u001B[38;5;124muser_id\u001B[39m\u001B[38;5;124m'\u001B[39m)[\u001B[38;5;124m'\u001B[39m\u001B[38;5;124mpurchase_timestamp\u001B[39m\u001B[38;5;124m'\u001B[39m]\u001B[38;5;241m.\u001B[39mtransform(\u001B[38;5;124m'\u001B[39m\u001B[38;5;124mcount\u001B[39m\u001B[38;5;124m'\u001B[39m)\n",
      "File \u001B[1;32m~\\PycharmProjects\\bahna_darius_tecknoworks_interview_DS\\venv\\Lib\\site-packages\\pandas\\core\\groupby\\generic.py:517\u001B[0m, in \u001B[0;36mSeriesGroupBy.transform\u001B[1;34m(self, func, engine, engine_kwargs, *args, **kwargs)\u001B[0m\n\u001B[0;32m    514\u001B[0m \u001B[38;5;129m@Substitution\u001B[39m(klass\u001B[38;5;241m=\u001B[39m\u001B[38;5;124m\"\u001B[39m\u001B[38;5;124mSeries\u001B[39m\u001B[38;5;124m\"\u001B[39m, example\u001B[38;5;241m=\u001B[39m__examples_series_doc)\n\u001B[0;32m    515\u001B[0m \u001B[38;5;129m@Appender\u001B[39m(_transform_template)\n\u001B[0;32m    516\u001B[0m \u001B[38;5;28;01mdef\u001B[39;00m \u001B[38;5;21mtransform\u001B[39m(\u001B[38;5;28mself\u001B[39m, func, \u001B[38;5;241m*\u001B[39margs, engine\u001B[38;5;241m=\u001B[39m\u001B[38;5;28;01mNone\u001B[39;00m, engine_kwargs\u001B[38;5;241m=\u001B[39m\u001B[38;5;28;01mNone\u001B[39;00m, \u001B[38;5;241m*\u001B[39m\u001B[38;5;241m*\u001B[39mkwargs):\n\u001B[1;32m--> 517\u001B[0m     \u001B[38;5;28;01mreturn\u001B[39;00m \u001B[38;5;28;43mself\u001B[39;49m\u001B[38;5;241;43m.\u001B[39;49m\u001B[43m_transform\u001B[49m\u001B[43m(\u001B[49m\n\u001B[0;32m    518\u001B[0m \u001B[43m        \u001B[49m\u001B[43mfunc\u001B[49m\u001B[43m,\u001B[49m\u001B[43m \u001B[49m\u001B[38;5;241;43m*\u001B[39;49m\u001B[43margs\u001B[49m\u001B[43m,\u001B[49m\u001B[43m \u001B[49m\u001B[43mengine\u001B[49m\u001B[38;5;241;43m=\u001B[39;49m\u001B[43mengine\u001B[49m\u001B[43m,\u001B[49m\u001B[43m \u001B[49m\u001B[43mengine_kwargs\u001B[49m\u001B[38;5;241;43m=\u001B[39;49m\u001B[43mengine_kwargs\u001B[49m\u001B[43m,\u001B[49m\u001B[43m \u001B[49m\u001B[38;5;241;43m*\u001B[39;49m\u001B[38;5;241;43m*\u001B[39;49m\u001B[43mkwargs\u001B[49m\n\u001B[0;32m    519\u001B[0m \u001B[43m    \u001B[49m\u001B[43m)\u001B[49m\n",
      "File \u001B[1;32m~\\PycharmProjects\\bahna_darius_tecknoworks_interview_DS\\venv\\Lib\\site-packages\\pandas\\core\\groupby\\groupby.py:2021\u001B[0m, in \u001B[0;36mGroupBy._transform\u001B[1;34m(self, func, engine, engine_kwargs, *args, **kwargs)\u001B[0m\n\u001B[0;32m   2018\u001B[0m     warn_alias_replacement(\u001B[38;5;28mself\u001B[39m, orig_func, func)\n\u001B[0;32m   2020\u001B[0m \u001B[38;5;28;01mif\u001B[39;00m \u001B[38;5;129;01mnot\u001B[39;00m \u001B[38;5;28misinstance\u001B[39m(func, \u001B[38;5;28mstr\u001B[39m):\n\u001B[1;32m-> 2021\u001B[0m     \u001B[38;5;28;01mreturn\u001B[39;00m \u001B[38;5;28;43mself\u001B[39;49m\u001B[38;5;241;43m.\u001B[39;49m\u001B[43m_transform_general\u001B[49m\u001B[43m(\u001B[49m\u001B[43mfunc\u001B[49m\u001B[43m,\u001B[49m\u001B[43m \u001B[49m\u001B[43mengine\u001B[49m\u001B[43m,\u001B[49m\u001B[43m \u001B[49m\u001B[43mengine_kwargs\u001B[49m\u001B[43m,\u001B[49m\u001B[43m \u001B[49m\u001B[38;5;241;43m*\u001B[39;49m\u001B[43margs\u001B[49m\u001B[43m,\u001B[49m\u001B[43m \u001B[49m\u001B[38;5;241;43m*\u001B[39;49m\u001B[38;5;241;43m*\u001B[39;49m\u001B[43mkwargs\u001B[49m\u001B[43m)\u001B[49m\n\u001B[0;32m   2023\u001B[0m \u001B[38;5;28;01melif\u001B[39;00m func \u001B[38;5;129;01mnot\u001B[39;00m \u001B[38;5;129;01min\u001B[39;00m base\u001B[38;5;241m.\u001B[39mtransform_kernel_allowlist:\n\u001B[0;32m   2024\u001B[0m     msg \u001B[38;5;241m=\u001B[39m \u001B[38;5;124mf\u001B[39m\u001B[38;5;124m\"\u001B[39m\u001B[38;5;124m'\u001B[39m\u001B[38;5;132;01m{\u001B[39;00mfunc\u001B[38;5;132;01m}\u001B[39;00m\u001B[38;5;124m'\u001B[39m\u001B[38;5;124m is not a valid function name for transform(name)\u001B[39m\u001B[38;5;124m\"\u001B[39m\n",
      "File \u001B[1;32m~\\PycharmProjects\\bahna_darius_tecknoworks_interview_DS\\venv\\Lib\\site-packages\\pandas\\core\\groupby\\generic.py:557\u001B[0m, in \u001B[0;36mSeriesGroupBy._transform_general\u001B[1;34m(self, func, engine, engine_kwargs, *args, **kwargs)\u001B[0m\n\u001B[0;32m    552\u001B[0m \u001B[38;5;28;01mfor\u001B[39;00m name, group \u001B[38;5;129;01min\u001B[39;00m \u001B[38;5;28mself\u001B[39m\u001B[38;5;241m.\u001B[39m_grouper\u001B[38;5;241m.\u001B[39mget_iterator(\n\u001B[0;32m    553\u001B[0m     \u001B[38;5;28mself\u001B[39m\u001B[38;5;241m.\u001B[39m_obj_with_exclusions, axis\u001B[38;5;241m=\u001B[39m\u001B[38;5;28mself\u001B[39m\u001B[38;5;241m.\u001B[39maxis\n\u001B[0;32m    554\u001B[0m ):\n\u001B[0;32m    555\u001B[0m     \u001B[38;5;66;03m# this setattr is needed for test_transform_lambda_with_datetimetz\u001B[39;00m\n\u001B[0;32m    556\u001B[0m     \u001B[38;5;28mobject\u001B[39m\u001B[38;5;241m.\u001B[39m\u001B[38;5;21m__setattr__\u001B[39m(group, \u001B[38;5;124m\"\u001B[39m\u001B[38;5;124mname\u001B[39m\u001B[38;5;124m\"\u001B[39m, name)\n\u001B[1;32m--> 557\u001B[0m     res \u001B[38;5;241m=\u001B[39m \u001B[43mfunc\u001B[49m\u001B[43m(\u001B[49m\u001B[43mgroup\u001B[49m\u001B[43m,\u001B[49m\u001B[43m \u001B[49m\u001B[38;5;241;43m*\u001B[39;49m\u001B[43margs\u001B[49m\u001B[43m,\u001B[49m\u001B[43m \u001B[49m\u001B[38;5;241;43m*\u001B[39;49m\u001B[38;5;241;43m*\u001B[39;49m\u001B[43mkwargs\u001B[49m\u001B[43m)\u001B[49m\n\u001B[0;32m    559\u001B[0m     results\u001B[38;5;241m.\u001B[39mappend(klass(res, index\u001B[38;5;241m=\u001B[39mgroup\u001B[38;5;241m.\u001B[39mindex))\n\u001B[0;32m    561\u001B[0m \u001B[38;5;66;03m# check for empty \"results\" to avoid concat ValueError\u001B[39;00m\n",
      "Cell \u001B[1;32mIn[22], line 3\u001B[0m, in \u001B[0;36m<lambda>\u001B[1;34m(x)\u001B[0m\n\u001B[0;32m      1\u001B[0m \u001B[38;5;66;03m# Convert 'purchase_timestamp' to datetime objects and calculate recency\u001B[39;00m\n\u001B[0;32m      2\u001B[0m behavior[\u001B[38;5;124m'\u001B[39m\u001B[38;5;124mpurchase_date\u001B[39m\u001B[38;5;124m'\u001B[39m] \u001B[38;5;241m=\u001B[39m pd\u001B[38;5;241m.\u001B[39mto_datetime(behavior[\u001B[38;5;124m'\u001B[39m\u001B[38;5;124mpurchase_timestamp\u001B[39m\u001B[38;5;124m'\u001B[39m], errors\u001B[38;5;241m=\u001B[39m\u001B[38;5;124m'\u001B[39m\u001B[38;5;124mcoerce\u001B[39m\u001B[38;5;124m'\u001B[39m)\u001B[38;5;241m.\u001B[39mdt\u001B[38;5;241m.\u001B[39mdate\n\u001B[1;32m----> 3\u001B[0m behavior[\u001B[38;5;124m'\u001B[39m\u001B[38;5;124mrecency\u001B[39m\u001B[38;5;124m'\u001B[39m] \u001B[38;5;241m=\u001B[39m behavior\u001B[38;5;241m.\u001B[39mgroupby(\u001B[38;5;124m'\u001B[39m\u001B[38;5;124muser_id\u001B[39m\u001B[38;5;124m'\u001B[39m)[\u001B[38;5;124m'\u001B[39m\u001B[38;5;124mpurchase_date\u001B[39m\u001B[38;5;124m'\u001B[39m]\u001B[38;5;241m.\u001B[39mtransform(\u001B[38;5;28;01mlambda\u001B[39;00m x: (\u001B[43mdatetime\u001B[49m\u001B[38;5;241;43m.\u001B[39;49m\u001B[43mnow\u001B[49m\u001B[43m(\u001B[49m\u001B[43m)\u001B[49m\u001B[38;5;241;43m.\u001B[39;49m\u001B[43mdate\u001B[49m\u001B[43m(\u001B[49m\u001B[43m)\u001B[49m\u001B[43m \u001B[49m\u001B[38;5;241;43m-\u001B[39;49m\u001B[43m \u001B[49m\u001B[43mpd\u001B[49m\u001B[38;5;241;43m.\u001B[39;49m\u001B[43mto_datetime\u001B[49m\u001B[43m(\u001B[49m\u001B[43mx\u001B[49m\u001B[43m)\u001B[49m\u001B[38;5;241;43m.\u001B[39;49m\u001B[43mmax\u001B[49m\u001B[43m(\u001B[49m\u001B[43m)\u001B[49m)\u001B[38;5;241m.\u001B[39mdays)\n\u001B[0;32m      5\u001B[0m \u001B[38;5;66;03m# Calculate the frequency of purchases for each user\u001B[39;00m\n\u001B[0;32m      6\u001B[0m behavior[\u001B[38;5;124m'\u001B[39m\u001B[38;5;124mfrequency\u001B[39m\u001B[38;5;124m'\u001B[39m] \u001B[38;5;241m=\u001B[39m behavior\u001B[38;5;241m.\u001B[39mgroupby(\u001B[38;5;124m'\u001B[39m\u001B[38;5;124muser_id\u001B[39m\u001B[38;5;124m'\u001B[39m)[\u001B[38;5;124m'\u001B[39m\u001B[38;5;124mpurchase_timestamp\u001B[39m\u001B[38;5;124m'\u001B[39m]\u001B[38;5;241m.\u001B[39mtransform(\u001B[38;5;124m'\u001B[39m\u001B[38;5;124mcount\u001B[39m\u001B[38;5;124m'\u001B[39m)\n",
      "\u001B[1;31mTypeError\u001B[0m: unsupported operand type(s) for -: 'datetime.date' and 'Timestamp'"
     ]
    }
   ],
   "execution_count": 22
  }
 ],
 "metadata": {
  "kernelspec": {
   "display_name": "Python 3",
   "language": "python",
   "name": "python3"
  },
  "language_info": {
   "codemirror_mode": {
    "name": "ipython",
    "version": 2
   },
   "file_extension": ".py",
   "mimetype": "text/x-python",
   "name": "python",
   "nbconvert_exporter": "python",
   "pygments_lexer": "ipython2",
   "version": "2.7.6"
  }
 },
 "nbformat": 4,
 "nbformat_minor": 5
}
