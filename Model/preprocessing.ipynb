{
 "cells": [
  {
   "metadata": {},
   "cell_type": "markdown",
   "source": "## Importing the libraries",
   "id": "32c237ea19932c43"
  },
  {
   "cell_type": "code",
   "id": "initial_id",
   "metadata": {
    "collapsed": true,
    "ExecuteTime": {
     "end_time": "2024-08-23T16:34:41.778153Z",
     "start_time": "2024-08-23T16:34:41.775109Z"
    }
   },
   "source": "import pandas as pd",
   "outputs": [],
   "execution_count": 167
  },
  {
   "metadata": {},
   "cell_type": "markdown",
   "source": "## Data Preprocessing",
   "id": "1230892cb8ca955b"
  },
  {
   "metadata": {
    "ExecuteTime": {
     "end_time": "2024-08-23T16:34:41.826823Z",
     "start_time": "2024-08-23T16:34:41.806163Z"
    }
   },
   "cell_type": "code",
   "source": [
    "users = pd.read_csv('../Fake_Data/user_data.csv')\n",
    "products = pd.read_csv('../Fake_Data/product_data.csv')\n",
    "behavior = pd.read_csv('../Fake_Data/user_behavior_data.csv')\n",
    "ratings = pd.read_csv('../Fake_Data/user_ratings.csv')"
   ],
   "id": "fc4f8f85a940f48f",
   "outputs": [],
   "execution_count": 168
  },
  {
   "metadata": {
    "ExecuteTime": {
     "end_time": "2024-08-23T16:34:41.887707Z",
     "start_time": "2024-08-23T16:34:41.877743Z"
    }
   },
   "cell_type": "code",
   "source": [
    "# Find the missing values:\n",
    "users.isnull().sum()\n",
    "products.isnull().sum()\n",
    "ratings.isnull().sum()\n",
    "behavior.isnull().sum()     # Missing values in the 'purchase_timestamp' column"
   ],
   "id": "b3fefc75ac102869",
   "outputs": [
    {
     "data": {
      "text/plain": [
       "user_id                  0\n",
       "product_id               0\n",
       "view_timestamp           0\n",
       "purchase_timestamp    3502\n",
       "dtype: int64"
      ]
     },
     "execution_count": 169,
     "metadata": {},
     "output_type": "execute_result"
    }
   ],
   "execution_count": 169
  },
  {
   "metadata": {
    "ExecuteTime": {
     "end_time": "2024-08-23T16:34:41.983847Z",
     "start_time": "2024-08-23T16:34:41.958835Z"
    }
   },
   "cell_type": "code",
   "source": [
    "# Combining data into a single csv file\n",
    "combined_data = behavior.merge(users, on='user_id', how='outer')\n",
    "combined_data = combined_data.merge(products, on='product_id', how='outer')\n",
    "combined_data = combined_data.merge(ratings, on=['user_id', 'product_id'], how='outer')\n",
    "\n",
    "combined_data.isnull().sum()    # Verify missing date"
   ],
   "id": "80d7aa666b925ef8",
   "outputs": [
    {
     "data": {
      "text/plain": [
       "user_id                  5\n",
       "product_id               5\n",
       "view_timestamp        1998\n",
       "purchase_timestamp    5500\n",
       "age                   1993\n",
       "gender                1993\n",
       "location              1993\n",
       "join_date             1993\n",
       "category              1993\n",
       "price                 1993\n",
       "brand                 1993\n",
       "avg_rating            1993\n",
       "rating                4997\n",
       "timestamp             4997\n",
       "dtype: int64"
      ]
     },
     "execution_count": 170,
     "metadata": {},
     "output_type": "execute_result"
    }
   ],
   "execution_count": 170
  },
  {
   "metadata": {},
   "cell_type": "markdown",
   "source": "# Filling Missing Values for Numeric Variables ",
   "id": "db40982ecc26706a"
  },
  {
   "metadata": {
    "ExecuteTime": {
     "end_time": "2024-08-23T16:34:42.093032Z",
     "start_time": "2024-08-23T16:34:42.082804Z"
    }
   },
   "cell_type": "code",
   "source": [
    "# Age column filling:\n",
    "mean_age = round(combined_data['age'].mean())    # Calculate the mean of 'age' and round it to the nearest integer\n",
    "combined_data['age'].fillna(mean_age, inplace=True)     # Fill missing 'age' values with the rounded mean and ensure the type is integer\n",
    "combined_data['age'] = combined_data['age'].astype(int)     # Ensure the entire column is of integer type\n",
    "\n",
    "# Price column filling:\n",
    "combined_data['price'].fillna(\n",
    "    combined_data['price'].median(), inplace=True\n",
    ")\n",
    "\n",
    "# avg_rating column filling:\n",
    "combined_data['avg_rating'].fillna(\n",
    "    combined_data['avg_rating'].median(), inplace=True\n",
    ")\n",
    "\n",
    "# Rating column filling:\n",
    "combined_data['rating'].fillna(\n",
    "    combined_data['rating'].median(), inplace=True\n",
    ")\n"
   ],
   "id": "926b47d2bbd57c98",
   "outputs": [
    {
     "name": "stderr",
     "output_type": "stream",
     "text": [
      "C:\\Users\\Darius\\AppData\\Local\\Temp\\ipykernel_9796\\2387231077.py:3: FutureWarning: A value is trying to be set on a copy of a DataFrame or Series through chained assignment using an inplace method.\n",
      "The behavior will change in pandas 3.0. This inplace method will never work because the intermediate object on which we are setting values always behaves as a copy.\n",
      "\n",
      "For example, when doing 'df[col].method(value, inplace=True)', try using 'df.method({col: value}, inplace=True)' or df[col] = df[col].method(value) instead, to perform the operation inplace on the original object.\n",
      "\n",
      "\n",
      "  combined_data['age'].fillna(mean_age, inplace=True)     # Fill missing 'age' values with the rounded mean and ensure the type is integer\n",
      "C:\\Users\\Darius\\AppData\\Local\\Temp\\ipykernel_9796\\2387231077.py:7: FutureWarning: A value is trying to be set on a copy of a DataFrame or Series through chained assignment using an inplace method.\n",
      "The behavior will change in pandas 3.0. This inplace method will never work because the intermediate object on which we are setting values always behaves as a copy.\n",
      "\n",
      "For example, when doing 'df[col].method(value, inplace=True)', try using 'df.method({col: value}, inplace=True)' or df[col] = df[col].method(value) instead, to perform the operation inplace on the original object.\n",
      "\n",
      "\n",
      "  combined_data['price'].fillna(\n",
      "C:\\Users\\Darius\\AppData\\Local\\Temp\\ipykernel_9796\\2387231077.py:12: FutureWarning: A value is trying to be set on a copy of a DataFrame or Series through chained assignment using an inplace method.\n",
      "The behavior will change in pandas 3.0. This inplace method will never work because the intermediate object on which we are setting values always behaves as a copy.\n",
      "\n",
      "For example, when doing 'df[col].method(value, inplace=True)', try using 'df.method({col: value}, inplace=True)' or df[col] = df[col].method(value) instead, to perform the operation inplace on the original object.\n",
      "\n",
      "\n",
      "  combined_data['avg_rating'].fillna(\n",
      "C:\\Users\\Darius\\AppData\\Local\\Temp\\ipykernel_9796\\2387231077.py:17: FutureWarning: A value is trying to be set on a copy of a DataFrame or Series through chained assignment using an inplace method.\n",
      "The behavior will change in pandas 3.0. This inplace method will never work because the intermediate object on which we are setting values always behaves as a copy.\n",
      "\n",
      "For example, when doing 'df[col].method(value, inplace=True)', try using 'df.method({col: value}, inplace=True)' or df[col] = df[col].method(value) instead, to perform the operation inplace on the original object.\n",
      "\n",
      "\n",
      "  combined_data['rating'].fillna(\n"
     ]
    }
   ],
   "execution_count": 171
  },
  {
   "metadata": {},
   "cell_type": "markdown",
   "source": "# Filling Missing Values for Categorical Variables",
   "id": "1c36c50d5a54ca00"
  },
  {
   "metadata": {
    "ExecuteTime": {
     "end_time": "2024-08-23T16:34:42.279906Z",
     "start_time": "2024-08-23T16:34:42.271544Z"
    }
   },
   "cell_type": "code",
   "source": [
    "# Gender column filling:\n",
    "combined_data['gender'].fillna(combined_data['gender'].mode()[0], inplace=True)\n",
    "\n",
    "# Location column filling:\n",
    "# combined_data['location'].fillna('Unknown', inplace=True)\n",
    "combined_data['location'].fillna(combined_data['location'].mode()[0], inplace=True)\n",
    "\n",
    "# Category column filling:\n",
    "combined_data['category'].fillna('Unknown', inplace=True)\n",
    "\n",
    "# Brand column filling:\n",
    "combined_data['brand'].fillna('Unknown', inplace=True)\n"
   ],
   "id": "1b62ef49f2dab2fb",
   "outputs": [
    {
     "name": "stderr",
     "output_type": "stream",
     "text": [
      "C:\\Users\\Darius\\AppData\\Local\\Temp\\ipykernel_9796\\3787186099.py:2: FutureWarning: A value is trying to be set on a copy of a DataFrame or Series through chained assignment using an inplace method.\n",
      "The behavior will change in pandas 3.0. This inplace method will never work because the intermediate object on which we are setting values always behaves as a copy.\n",
      "\n",
      "For example, when doing 'df[col].method(value, inplace=True)', try using 'df.method({col: value}, inplace=True)' or df[col] = df[col].method(value) instead, to perform the operation inplace on the original object.\n",
      "\n",
      "\n",
      "  combined_data['gender'].fillna(combined_data['gender'].mode()[0], inplace=True)\n",
      "C:\\Users\\Darius\\AppData\\Local\\Temp\\ipykernel_9796\\3787186099.py:6: FutureWarning: A value is trying to be set on a copy of a DataFrame or Series through chained assignment using an inplace method.\n",
      "The behavior will change in pandas 3.0. This inplace method will never work because the intermediate object on which we are setting values always behaves as a copy.\n",
      "\n",
      "For example, when doing 'df[col].method(value, inplace=True)', try using 'df.method({col: value}, inplace=True)' or df[col] = df[col].method(value) instead, to perform the operation inplace on the original object.\n",
      "\n",
      "\n",
      "  combined_data['location'].fillna(combined_data['location'].mode()[0], inplace=True)\n",
      "C:\\Users\\Darius\\AppData\\Local\\Temp\\ipykernel_9796\\3787186099.py:9: FutureWarning: A value is trying to be set on a copy of a DataFrame or Series through chained assignment using an inplace method.\n",
      "The behavior will change in pandas 3.0. This inplace method will never work because the intermediate object on which we are setting values always behaves as a copy.\n",
      "\n",
      "For example, when doing 'df[col].method(value, inplace=True)', try using 'df.method({col: value}, inplace=True)' or df[col] = df[col].method(value) instead, to perform the operation inplace on the original object.\n",
      "\n",
      "\n",
      "  combined_data['category'].fillna('Unknown', inplace=True)\n",
      "C:\\Users\\Darius\\AppData\\Local\\Temp\\ipykernel_9796\\3787186099.py:12: FutureWarning: A value is trying to be set on a copy of a DataFrame or Series through chained assignment using an inplace method.\n",
      "The behavior will change in pandas 3.0. This inplace method will never work because the intermediate object on which we are setting values always behaves as a copy.\n",
      "\n",
      "For example, when doing 'df[col].method(value, inplace=True)', try using 'df.method({col: value}, inplace=True)' or df[col] = df[col].method(value) instead, to perform the operation inplace on the original object.\n",
      "\n",
      "\n",
      "  combined_data['brand'].fillna('Unknown', inplace=True)\n"
     ]
    }
   ],
   "execution_count": 172
  },
  {
   "metadata": {
    "ExecuteTime": {
     "end_time": "2024-08-23T16:34:42.386494Z",
     "start_time": "2024-08-23T16:34:42.372913Z"
    }
   },
   "cell_type": "code",
   "source": [
    "# Adding a new column for indicating purchases \n",
    "combined_data[\"purchase_made\"] = combined_data[\"purchase_timestamp\"].notnull().astype(int)\n",
    "combined_data['purchase_timestamp'].fillna(value='No Purchase', inplace=True)\n",
    "combined_data.iloc[:, 14:]     # 0 means user not buy product, 1 means user busy"
   ],
   "id": "a43418d258c2d521",
   "outputs": [
    {
     "name": "stderr",
     "output_type": "stream",
     "text": [
      "C:\\Users\\Darius\\AppData\\Local\\Temp\\ipykernel_9796\\3203919029.py:3: FutureWarning: A value is trying to be set on a copy of a DataFrame or Series through chained assignment using an inplace method.\n",
      "The behavior will change in pandas 3.0. This inplace method will never work because the intermediate object on which we are setting values always behaves as a copy.\n",
      "\n",
      "For example, when doing 'df[col].method(value, inplace=True)', try using 'df.method({col: value}, inplace=True)' or df[col] = df[col].method(value) instead, to perform the operation inplace on the original object.\n",
      "\n",
      "\n",
      "  combined_data['purchase_timestamp'].fillna(value='No Purchase', inplace=True)\n"
     ]
    },
    {
     "data": {
      "text/plain": [
       "      purchase_made\n",
       "0                 0\n",
       "1                 0\n",
       "2                 1\n",
       "3                 0\n",
       "4                 0\n",
       "...             ...\n",
       "6993              0\n",
       "6994              0\n",
       "6995              0\n",
       "6996              0\n",
       "6997              0\n",
       "\n",
       "[6998 rows x 1 columns]"
      ],
      "text/html": [
       "<div>\n",
       "<style scoped>\n",
       "    .dataframe tbody tr th:only-of-type {\n",
       "        vertical-align: middle;\n",
       "    }\n",
       "\n",
       "    .dataframe tbody tr th {\n",
       "        vertical-align: top;\n",
       "    }\n",
       "\n",
       "    .dataframe thead th {\n",
       "        text-align: right;\n",
       "    }\n",
       "</style>\n",
       "<table border=\"1\" class=\"dataframe\">\n",
       "  <thead>\n",
       "    <tr style=\"text-align: right;\">\n",
       "      <th></th>\n",
       "      <th>purchase_made</th>\n",
       "    </tr>\n",
       "  </thead>\n",
       "  <tbody>\n",
       "    <tr>\n",
       "      <th>0</th>\n",
       "      <td>0</td>\n",
       "    </tr>\n",
       "    <tr>\n",
       "      <th>1</th>\n",
       "      <td>0</td>\n",
       "    </tr>\n",
       "    <tr>\n",
       "      <th>2</th>\n",
       "      <td>1</td>\n",
       "    </tr>\n",
       "    <tr>\n",
       "      <th>3</th>\n",
       "      <td>0</td>\n",
       "    </tr>\n",
       "    <tr>\n",
       "      <th>4</th>\n",
       "      <td>0</td>\n",
       "    </tr>\n",
       "    <tr>\n",
       "      <th>...</th>\n",
       "      <td>...</td>\n",
       "    </tr>\n",
       "    <tr>\n",
       "      <th>6993</th>\n",
       "      <td>0</td>\n",
       "    </tr>\n",
       "    <tr>\n",
       "      <th>6994</th>\n",
       "      <td>0</td>\n",
       "    </tr>\n",
       "    <tr>\n",
       "      <th>6995</th>\n",
       "      <td>0</td>\n",
       "    </tr>\n",
       "    <tr>\n",
       "      <th>6996</th>\n",
       "      <td>0</td>\n",
       "    </tr>\n",
       "    <tr>\n",
       "      <th>6997</th>\n",
       "      <td>0</td>\n",
       "    </tr>\n",
       "  </tbody>\n",
       "</table>\n",
       "<p>6998 rows × 1 columns</p>\n",
       "</div>"
      ]
     },
     "execution_count": 173,
     "metadata": {},
     "output_type": "execute_result"
    }
   ],
   "execution_count": 173
  },
  {
   "metadata": {
    "ExecuteTime": {
     "end_time": "2024-08-23T16:34:42.636788Z",
     "start_time": "2024-08-23T16:34:42.608501Z"
    }
   },
   "cell_type": "code",
   "source": [
    "final_data = combined_data[\n",
    "    ['user_id', 'product_id', 'age', 'gender', 'location', 'category', 'price', 'brand', 'avg_rating', 'rating', 'purchase_made']\n",
    "]\n",
    "final_data.dropna(inplace=True)\n",
    "final_data"
   ],
   "id": "691cd4e57bbd80ed",
   "outputs": [
    {
     "name": "stderr",
     "output_type": "stream",
     "text": [
      "C:\\Users\\Darius\\AppData\\Local\\Temp\\ipykernel_9796\\3634307604.py:4: SettingWithCopyWarning: \n",
      "A value is trying to be set on a copy of a slice from a DataFrame\n",
      "\n",
      "See the caveats in the documentation: https://pandas.pydata.org/pandas-docs/stable/user_guide/indexing.html#returning-a-view-versus-a-copy\n",
      "  final_data.dropna(inplace=True)\n"
     ]
    },
    {
     "data": {
      "text/plain": [
       "      user_id  product_id  age gender           location        category  \\\n",
       "0      1001.0      2011.0   56      M  East Lawrencefurt     Electronics   \n",
       "1      1001.0      2062.0   44      M       West Deborah         Unknown   \n",
       "2      1001.0      2358.0   56      M  East Lawrencefurt        Clothing   \n",
       "3      1001.0      2553.0   56      M  East Lawrencefurt          Sports   \n",
       "4      1001.0      2555.0   56      M  East Lawrencefurt      Automotive   \n",
       "...       ...         ...  ...    ...                ...             ...   \n",
       "6988   2000.0      2455.0   55      M          Jonesport            Toys   \n",
       "6989   2000.0      2498.0   55      M          Jonesport          Sports   \n",
       "6990   2000.0      2529.0   55      M          Jonesport        Clothing   \n",
       "6991   2000.0      2689.0   55      M          Jonesport     Electronics   \n",
       "6992   2000.0      2922.0   55      M          Jonesport  Home & Kitchen   \n",
       "\n",
       "       price                         brand  avg_rating  rating  purchase_made  \n",
       "0     709.14                   Chapman Ltd         4.7     3.0              0  \n",
       "1     503.12                       Unknown         2.9     1.0              0  \n",
       "2     612.73  Mccormick, Boone and Hubbard         4.2     3.0              1  \n",
       "3     981.08                    Duarte PLC         1.5     3.0              0  \n",
       "4     864.23                  Pruitt Group         4.3     3.0              0  \n",
       "...      ...                           ...         ...     ...            ...  \n",
       "6988  603.07                     White LLC         4.9     3.0              1  \n",
       "6989  604.93                Wilson-Pacheco         2.0     3.0              1  \n",
       "6990  880.91                       Lee Inc         4.2     3.0              0  \n",
       "6991  892.41                  Hess-Mullins         1.4     3.0              0  \n",
       "6992  106.29                 Holmes-Madden         1.4     3.0              0  \n",
       "\n",
       "[6988 rows x 11 columns]"
      ],
      "text/html": [
       "<div>\n",
       "<style scoped>\n",
       "    .dataframe tbody tr th:only-of-type {\n",
       "        vertical-align: middle;\n",
       "    }\n",
       "\n",
       "    .dataframe tbody tr th {\n",
       "        vertical-align: top;\n",
       "    }\n",
       "\n",
       "    .dataframe thead th {\n",
       "        text-align: right;\n",
       "    }\n",
       "</style>\n",
       "<table border=\"1\" class=\"dataframe\">\n",
       "  <thead>\n",
       "    <tr style=\"text-align: right;\">\n",
       "      <th></th>\n",
       "      <th>user_id</th>\n",
       "      <th>product_id</th>\n",
       "      <th>age</th>\n",
       "      <th>gender</th>\n",
       "      <th>location</th>\n",
       "      <th>category</th>\n",
       "      <th>price</th>\n",
       "      <th>brand</th>\n",
       "      <th>avg_rating</th>\n",
       "      <th>rating</th>\n",
       "      <th>purchase_made</th>\n",
       "    </tr>\n",
       "  </thead>\n",
       "  <tbody>\n",
       "    <tr>\n",
       "      <th>0</th>\n",
       "      <td>1001.0</td>\n",
       "      <td>2011.0</td>\n",
       "      <td>56</td>\n",
       "      <td>M</td>\n",
       "      <td>East Lawrencefurt</td>\n",
       "      <td>Electronics</td>\n",
       "      <td>709.14</td>\n",
       "      <td>Chapman Ltd</td>\n",
       "      <td>4.7</td>\n",
       "      <td>3.0</td>\n",
       "      <td>0</td>\n",
       "    </tr>\n",
       "    <tr>\n",
       "      <th>1</th>\n",
       "      <td>1001.0</td>\n",
       "      <td>2062.0</td>\n",
       "      <td>44</td>\n",
       "      <td>M</td>\n",
       "      <td>West Deborah</td>\n",
       "      <td>Unknown</td>\n",
       "      <td>503.12</td>\n",
       "      <td>Unknown</td>\n",
       "      <td>2.9</td>\n",
       "      <td>1.0</td>\n",
       "      <td>0</td>\n",
       "    </tr>\n",
       "    <tr>\n",
       "      <th>2</th>\n",
       "      <td>1001.0</td>\n",
       "      <td>2358.0</td>\n",
       "      <td>56</td>\n",
       "      <td>M</td>\n",
       "      <td>East Lawrencefurt</td>\n",
       "      <td>Clothing</td>\n",
       "      <td>612.73</td>\n",
       "      <td>Mccormick, Boone and Hubbard</td>\n",
       "      <td>4.2</td>\n",
       "      <td>3.0</td>\n",
       "      <td>1</td>\n",
       "    </tr>\n",
       "    <tr>\n",
       "      <th>3</th>\n",
       "      <td>1001.0</td>\n",
       "      <td>2553.0</td>\n",
       "      <td>56</td>\n",
       "      <td>M</td>\n",
       "      <td>East Lawrencefurt</td>\n",
       "      <td>Sports</td>\n",
       "      <td>981.08</td>\n",
       "      <td>Duarte PLC</td>\n",
       "      <td>1.5</td>\n",
       "      <td>3.0</td>\n",
       "      <td>0</td>\n",
       "    </tr>\n",
       "    <tr>\n",
       "      <th>4</th>\n",
       "      <td>1001.0</td>\n",
       "      <td>2555.0</td>\n",
       "      <td>56</td>\n",
       "      <td>M</td>\n",
       "      <td>East Lawrencefurt</td>\n",
       "      <td>Automotive</td>\n",
       "      <td>864.23</td>\n",
       "      <td>Pruitt Group</td>\n",
       "      <td>4.3</td>\n",
       "      <td>3.0</td>\n",
       "      <td>0</td>\n",
       "    </tr>\n",
       "    <tr>\n",
       "      <th>...</th>\n",
       "      <td>...</td>\n",
       "      <td>...</td>\n",
       "      <td>...</td>\n",
       "      <td>...</td>\n",
       "      <td>...</td>\n",
       "      <td>...</td>\n",
       "      <td>...</td>\n",
       "      <td>...</td>\n",
       "      <td>...</td>\n",
       "      <td>...</td>\n",
       "      <td>...</td>\n",
       "    </tr>\n",
       "    <tr>\n",
       "      <th>6988</th>\n",
       "      <td>2000.0</td>\n",
       "      <td>2455.0</td>\n",
       "      <td>55</td>\n",
       "      <td>M</td>\n",
       "      <td>Jonesport</td>\n",
       "      <td>Toys</td>\n",
       "      <td>603.07</td>\n",
       "      <td>White LLC</td>\n",
       "      <td>4.9</td>\n",
       "      <td>3.0</td>\n",
       "      <td>1</td>\n",
       "    </tr>\n",
       "    <tr>\n",
       "      <th>6989</th>\n",
       "      <td>2000.0</td>\n",
       "      <td>2498.0</td>\n",
       "      <td>55</td>\n",
       "      <td>M</td>\n",
       "      <td>Jonesport</td>\n",
       "      <td>Sports</td>\n",
       "      <td>604.93</td>\n",
       "      <td>Wilson-Pacheco</td>\n",
       "      <td>2.0</td>\n",
       "      <td>3.0</td>\n",
       "      <td>1</td>\n",
       "    </tr>\n",
       "    <tr>\n",
       "      <th>6990</th>\n",
       "      <td>2000.0</td>\n",
       "      <td>2529.0</td>\n",
       "      <td>55</td>\n",
       "      <td>M</td>\n",
       "      <td>Jonesport</td>\n",
       "      <td>Clothing</td>\n",
       "      <td>880.91</td>\n",
       "      <td>Lee Inc</td>\n",
       "      <td>4.2</td>\n",
       "      <td>3.0</td>\n",
       "      <td>0</td>\n",
       "    </tr>\n",
       "    <tr>\n",
       "      <th>6991</th>\n",
       "      <td>2000.0</td>\n",
       "      <td>2689.0</td>\n",
       "      <td>55</td>\n",
       "      <td>M</td>\n",
       "      <td>Jonesport</td>\n",
       "      <td>Electronics</td>\n",
       "      <td>892.41</td>\n",
       "      <td>Hess-Mullins</td>\n",
       "      <td>1.4</td>\n",
       "      <td>3.0</td>\n",
       "      <td>0</td>\n",
       "    </tr>\n",
       "    <tr>\n",
       "      <th>6992</th>\n",
       "      <td>2000.0</td>\n",
       "      <td>2922.0</td>\n",
       "      <td>55</td>\n",
       "      <td>M</td>\n",
       "      <td>Jonesport</td>\n",
       "      <td>Home &amp; Kitchen</td>\n",
       "      <td>106.29</td>\n",
       "      <td>Holmes-Madden</td>\n",
       "      <td>1.4</td>\n",
       "      <td>3.0</td>\n",
       "      <td>0</td>\n",
       "    </tr>\n",
       "  </tbody>\n",
       "</table>\n",
       "<p>6988 rows × 11 columns</p>\n",
       "</div>"
      ]
     },
     "execution_count": 174,
     "metadata": {},
     "output_type": "execute_result"
    }
   ],
   "execution_count": 174
  },
  {
   "metadata": {
    "ExecuteTime": {
     "end_time": "2024-08-23T16:34:42.863582Z",
     "start_time": "2024-08-23T16:34:42.855995Z"
    }
   },
   "cell_type": "code",
   "source": "final_data.isnull().sum()   # Verify missing date",
   "id": "c362804994775425",
   "outputs": [
    {
     "data": {
      "text/plain": [
       "user_id          0\n",
       "product_id       0\n",
       "age              0\n",
       "gender           0\n",
       "location         0\n",
       "category         0\n",
       "price            0\n",
       "brand            0\n",
       "avg_rating       0\n",
       "rating           0\n",
       "purchase_made    0\n",
       "dtype: int64"
      ]
     },
     "execution_count": 175,
     "metadata": {},
     "output_type": "execute_result"
    }
   ],
   "execution_count": 175
  },
  {
   "metadata": {
    "ExecuteTime": {
     "end_time": "2024-08-23T16:34:43.028763Z",
     "start_time": "2024-08-23T16:34:42.986929Z"
    }
   },
   "cell_type": "code",
   "source": [
    "final_data.to_csv(\n",
    "    path_or_buf='../data/processed/final_data.csv', index=False\n",
    ")"
   ],
   "id": "b0506070503927a6",
   "outputs": [],
   "execution_count": 176
  }
 ],
 "metadata": {
  "kernelspec": {
   "display_name": "Python 3",
   "language": "python",
   "name": "python3"
  },
  "language_info": {
   "codemirror_mode": {
    "name": "ipython",
    "version": 2
   },
   "file_extension": ".py",
   "mimetype": "text/x-python",
   "name": "python",
   "nbconvert_exporter": "python",
   "pygments_lexer": "ipython2",
   "version": "2.7.6"
  }
 },
 "nbformat": 4,
 "nbformat_minor": 5
}
