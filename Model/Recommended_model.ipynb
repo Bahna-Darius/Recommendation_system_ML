{
 "cells": [
  {
   "metadata": {},
   "cell_type": "markdown",
   "source": "## Importing the libraries",
   "id": "32c237ea19932c43"
  },
  {
   "cell_type": "code",
   "id": "initial_id",
   "metadata": {
    "collapsed": true,
    "ExecuteTime": {
     "end_time": "2024-08-22T13:13:41.333961Z",
     "start_time": "2024-08-22T13:13:41.329958Z"
    }
   },
   "source": [
    "import numpy as np\n",
    "import pandas as pd"
   ],
   "outputs": [],
   "execution_count": 4
  },
  {
   "metadata": {},
   "cell_type": "markdown",
   "source": "## Data Preprocessing",
   "id": "1230892cb8ca955b"
  },
  {
   "metadata": {
    "ExecuteTime": {
     "end_time": "2024-08-22T13:13:43.065768Z",
     "start_time": "2024-08-22T13:13:43.044526Z"
    }
   },
   "cell_type": "code",
   "source": [
    "users = pd.read_csv('Fake_Data/user_data.csv')\n",
    "products = pd.read_csv('Fake_Data/product_data.csv')\n",
    "behavior = pd.read_csv('Fake_Data/user_behavior_data.csv')\n",
    "ratings = pd.read_csv('Fake_Data/user_ratings.csv')"
   ],
   "id": "fc4f8f85a940f48f",
   "outputs": [],
   "execution_count": 5
  },
  {
   "metadata": {
    "ExecuteTime": {
     "end_time": "2024-08-22T13:13:45.722710Z",
     "start_time": "2024-08-22T13:13:45.714685Z"
    }
   },
   "cell_type": "code",
   "source": [
    "# Find the missing values:\n",
    "users.isnull().sum()\n",
    "products.isnull().sum()\n",
    "ratings.isnull().sum()\n",
    "behavior.isnull().sum()     # Missing values in the 'purchase_timestamp' column"
   ],
   "id": "b3fefc75ac102869",
   "outputs": [
    {
     "data": {
      "text/plain": [
       "user_id                  0\n",
       "product_id               0\n",
       "view_timestamp           0\n",
       "purchase_timestamp    3502\n",
       "dtype: int64"
      ]
     },
     "execution_count": 6,
     "metadata": {},
     "output_type": "execute_result"
    }
   ],
   "execution_count": 6
  },
  {
   "metadata": {
    "ExecuteTime": {
     "end_time": "2024-08-22T13:35:10.402141Z",
     "start_time": "2024-08-22T13:35:10.391975Z"
    }
   },
   "cell_type": "code",
   "source": [
    "# Adding a new column for indicating purchases \n",
    "behavior[\"purchase_made\"] = behavior[\"purchase_timestamp\"].notnull().astype(int)\n",
    "behavior['purchase_timestamp'] = behavior['purchase_timestamp'].fillna(value='No Purchase', inplace=True)\n",
    "behavior['purchase_made'].value_counts()"
   ],
   "id": "7af05e8a8f6ef5f5",
   "outputs": [
    {
     "name": "stderr",
     "output_type": "stream",
     "text": [
      "C:\\Users\\Darius\\AppData\\Local\\Temp\\ipykernel_4872\\519888302.py:2: FutureWarning: A value is trying to be set on a copy of a DataFrame or Series through chained assignment using an inplace method.\n",
      "The behavior will change in pandas 3.0. This inplace method will never work because the intermediate object on which we are setting values always behaves as a copy.\n",
      "\n",
      "For example, when doing 'df[col].method(value, inplace=True)', try using 'df.method({col: value}, inplace=True)' or df[col] = df[col].method(value) instead, to perform the operation inplace on the original object.\n",
      "\n",
      "\n",
      "  behavior['purchase_timestamp'] = behavior['purchase_timestamp'].fillna(value='No Purchase', inplace=True)\n"
     ]
    },
    {
     "data": {
      "text/plain": [
       "purchase_made\n",
       "0    5000\n",
       "Name: count, dtype: int64"
      ]
     },
     "execution_count": 13,
     "metadata": {},
     "output_type": "execute_result"
    }
   ],
   "execution_count": 13
  },
  {
   "metadata": {},
   "cell_type": "code",
   "outputs": [],
   "execution_count": null,
   "source": "",
   "id": "319b980b48eedf30"
  }
 ],
 "metadata": {
  "kernelspec": {
   "display_name": "Python 3",
   "language": "python",
   "name": "python3"
  },
  "language_info": {
   "codemirror_mode": {
    "name": "ipython",
    "version": 2
   },
   "file_extension": ".py",
   "mimetype": "text/x-python",
   "name": "python",
   "nbconvert_exporter": "python",
   "pygments_lexer": "ipython2",
   "version": "2.7.6"
  }
 },
 "nbformat": 4,
 "nbformat_minor": 5
}
