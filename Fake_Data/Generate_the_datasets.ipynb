{
 "cells": [
  {
   "cell_type": "code",
   "id": "initial_id",
   "metadata": {
    "collapsed": true,
    "ExecuteTime": {
     "end_time": "2024-08-22T13:04:58.859461Z",
     "start_time": "2024-08-22T13:04:58.853325Z"
    }
   },
   "source": [
    "# !pip install pandas\n",
    "# !pip install numpy\n",
    "# !pip install faker"
   ],
   "outputs": [],
   "execution_count": 1
  },
  {
   "metadata": {},
   "cell_type": "markdown",
   "source": "# Importing the libraries",
   "id": "b6c078fbd3e42d4d"
  },
  {
   "metadata": {
    "ExecuteTime": {
     "end_time": "2024-08-22T13:04:59.712403Z",
     "start_time": "2024-08-22T13:04:58.879475Z"
    }
   },
   "cell_type": "code",
   "source": [
    "import pandas as pd\n",
    "import numpy as np\n",
    "from faker import Faker\n",
    "from datetime import datetime, timedelta"
   ],
   "id": "662e27e0231baa3",
   "outputs": [],
   "execution_count": 2
  },
  {
   "metadata": {
    "ExecuteTime": {
     "end_time": "2024-08-22T13:05:00.130230Z",
     "start_time": "2024-08-22T13:05:00.006812Z"
    }
   },
   "cell_type": "code",
   "source": "fake = Faker()",
   "id": "edd8025d7f4a3d3e",
   "outputs": [],
   "execution_count": 3
  },
  {
   "metadata": {},
   "cell_type": "markdown",
   "source": "# Set random seed for reproducibility",
   "id": "d06a74a47297e5fc"
  },
  {
   "metadata": {
    "ExecuteTime": {
     "end_time": "2024-08-22T13:05:00.461170Z",
     "start_time": "2024-08-22T13:05:00.457067Z"
    }
   },
   "cell_type": "code",
   "source": "np.random.seed(42)",
   "id": "61f63c731727dc9",
   "outputs": [],
   "execution_count": 4
  },
  {
   "metadata": {},
   "cell_type": "markdown",
   "source": "# Generate User Data (1000 users)",
   "id": "1be7df718baa171b"
  },
  {
   "metadata": {
    "ExecuteTime": {
     "end_time": "2024-08-22T13:05:00.691405Z",
     "start_time": "2024-08-22T13:05:00.686132Z"
    }
   },
   "cell_type": "code",
   "source": [
    "def generate_users(n=1000):\n",
    "    \n",
    "    return pd.DataFrame({\n",
    "'user_id': range(1001, 1001 + n),\n",
    "'age': np.random.randint(18, 70, n),\n",
    "'gender': np.random.choice(['M', 'F'], n),\n",
    "'location': [fake.city() for _ in range(n)],\n",
    "'join_date': [fake.date_between(start_date='-3y', end_date='today') for _ in range(n)]\n",
    "})"
   ],
   "id": "53275e656422654",
   "outputs": [],
   "execution_count": 5
  },
  {
   "metadata": {},
   "cell_type": "markdown",
   "source": "# Generate Product Data (1000 products)",
   "id": "b4ce01786a6ecea0"
  },
  {
   "metadata": {
    "ExecuteTime": {
     "end_time": "2024-08-22T13:05:00.887970Z",
     "start_time": "2024-08-22T13:05:00.882416Z"
    }
   },
   "cell_type": "code",
   "source": [
    "def generate_products(n=1000):\n",
    "    categories = ['Electronics', 'Clothing', 'Home & Kitchen', 'Books', 'Beauty', 'Sports', 'Toys',\n",
    "    'Food', 'Automotive', 'Health']\n",
    "    brands = [fake.company() for _ in range(50)] # 50 unique brands\n",
    "    \n",
    "    return pd.DataFrame({\n",
    "'product_id': range(2001, 2001 + n),\n",
    "'category': np.random.choice(categories, n),\n",
    "'price': np.round(np.random.uniform(5, 1000, n), 2),\n",
    "'brand': np.random.choice(brands, n),\n",
    "'avg_rating': np.round(np.random.uniform(1, 5, n), 1)\n",
    "})"
   ],
   "id": "f422c2edf7de7404",
   "outputs": [],
   "execution_count": 6
  },
  {
   "metadata": {},
   "cell_type": "markdown",
   "source": "# Generate User Behavior Data (5000 interactions)",
   "id": "e16ff664229ba546"
  },
  {
   "metadata": {
    "ExecuteTime": {
     "end_time": "2024-08-22T13:05:01.701870Z",
     "start_time": "2024-08-22T13:05:01.692820Z"
    }
   },
   "cell_type": "code",
   "source": [
    "def generate_user_behavior(users, products, n=5000):\n",
    "    user_ids = users['user_id'].tolist()\n",
    "    product_ids = products['product_id'].tolist()\n",
    "    data = []\n",
    "    \n",
    "    for _ in range(n):\n",
    "        user_id = np.random.choice(user_ids)\n",
    "        product_id = np.random.choice(product_ids)\n",
    "        view_time = fake.date_time_between(start_date='-1y', end_date='now')\n",
    "        purchase_time = view_time + timedelta(minutes=np.random.randint(5, 1440)) if np.random.random() < 0.3 else None\n",
    "        data.append([user_id, product_id, view_time, purchase_time])\n",
    "    \n",
    "    return pd.DataFrame(\n",
    "        data, columns=['user_id', 'product_id', 'view_timestamp',\n",
    "        'purchase_timestamp']\n",
    "    )"
   ],
   "id": "3fb7a091d8a69d21",
   "outputs": [],
   "execution_count": 7
  },
  {
   "metadata": {},
   "cell_type": "markdown",
   "source": "# Generate User Ratings (2000 ratings)",
   "id": "714ddd2f63497f7a"
  },
  {
   "metadata": {
    "ExecuteTime": {
     "end_time": "2024-08-22T13:05:02.113347Z",
     "start_time": "2024-08-22T13:05:02.104137Z"
    }
   },
   "cell_type": "code",
   "source": [
    "def generate_user_ratings(users, products, n=2000):\n",
    "    user_ids = users['user_id'].tolist()\n",
    "    product_ids = products['product_id'].tolist()\n",
    "    data = []\n",
    "        \n",
    "    for _ in range(n):\n",
    "        user_id = np.random.choice(user_ids)\n",
    "        product_id = np.random.choice(product_ids)\n",
    "        rating = np.random.randint(1, 6)\n",
    "        timestamp = fake.date_time_between(start_date='-1y', end_date='now')\n",
    "        data.append([user_id, product_id, rating, timestamp])\n",
    "        \n",
    "    return pd.DataFrame(data, columns=['user_id', 'product_id', 'rating', 'timestamp'])"
   ],
   "id": "2c8dba3b071b3772",
   "outputs": [],
   "execution_count": 8
  },
  {
   "metadata": {},
   "cell_type": "markdown",
   "source": "# Generate the datasets",
   "id": "fdb6e5ef23c3f16f"
  },
  {
   "metadata": {
    "ExecuteTime": {
     "end_time": "2024-08-22T13:05:03.939971Z",
     "start_time": "2024-08-22T13:05:02.380866Z"
    }
   },
   "cell_type": "code",
   "source": [
    "users = generate_users()\n",
    "products = generate_products()\n",
    "behavior = generate_user_behavior(users, products)\n",
    "ratings = generate_user_ratings(users, products)"
   ],
   "id": "87b87c4c1f189200",
   "outputs": [],
   "execution_count": 9
  },
  {
   "metadata": {},
   "cell_type": "markdown",
   "source": "# Save the datasets to CSV files",
   "id": "2c039e06df82f291"
  },
  {
   "metadata": {
    "ExecuteTime": {
     "end_time": "2024-08-22T13:05:04.122736Z",
     "start_time": "2024-08-22T13:05:04.083115Z"
    }
   },
   "cell_type": "code",
   "source": [
    "users.to_csv('user_data.csv', index=False)\n",
    "products.to_csv('product_data.csv', index=False)\n",
    "behavior.to_csv('user_behavior_data.csv', index=False)\n",
    "ratings.to_csv('user_ratings.csv', index=False)"
   ],
   "id": "973c9781ef989e5a",
   "outputs": [],
   "execution_count": 10
  },
  {
   "metadata": {
    "ExecuteTime": {
     "end_time": "2024-08-22T13:05:04.356952Z",
     "start_time": "2024-08-22T13:05:04.351078Z"
    }
   },
   "cell_type": "code",
   "source": [
    "print(\"Datasets generated and saved to CSV files.\")\n",
    "print(f\"Users: {len(users)} records\")\n",
    "print(f\"Products: {len(products)} records\")\n",
    "print(f\"User Behavior: {len(behavior)} records\")\n",
    "print(f\"User Ratings: {len(ratings)} records\")"
   ],
   "id": "bb55281473d2d88d",
   "outputs": [
    {
     "name": "stdout",
     "output_type": "stream",
     "text": [
      "Datasets generated and saved to CSV files.\n",
      "Users: 1000 records\n",
      "Products: 1000 records\n",
      "User Behavior: 5000 records\n",
      "User Ratings: 2000 records\n"
     ]
    }
   ],
   "execution_count": 11
  }
 ],
 "metadata": {
  "kernelspec": {
   "display_name": "Python 3",
   "language": "python",
   "name": "python3"
  },
  "language_info": {
   "codemirror_mode": {
    "name": "ipython",
    "version": 2
   },
   "file_extension": ".py",
   "mimetype": "text/x-python",
   "name": "python",
   "nbconvert_exporter": "python",
   "pygments_lexer": "ipython2",
   "version": "2.7.6"
  }
 },
 "nbformat": 4,
 "nbformat_minor": 5
}
